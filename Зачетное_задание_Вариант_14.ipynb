{
  "nbformat": 4,
  "nbformat_minor": 0,
  "metadata": {
    "colab": {
      "name": " \"Зачетное задание.Вариант 14.ipynb\"",
      "provenance": [],
      "collapsed_sections": []
    },
    "kernelspec": {
      "name": "python3",
      "display_name": "Python 3"
    },
    "language_info": {
      "name": "python"
    }
  },
  "cells": [
    {
      "cell_type": "markdown",
      "metadata": {
        "id": "YgdtofO1JmM1"
      },
      "source": [
        "**Отчёт**\n",
        "\n",
        "**Зачётное задание по предмету системы компьютерной математики**\n",
        "\n",
        "**\"Интерполяция. Длина Тормозного пути\"**\n",
        "\n",
        "\n",
        "\n",
        "\n",
        "Выполнено\n",
        "\n",
        "студентом группы 382008-1\n",
        "\n",
        "Пашиной Алиной Игоревной"
      ]
    },
    {
      "cell_type": "markdown",
      "metadata": {
        "id": "zXphsq5WIsXW"
      },
      "source": [
        "**Задание**: (Моулер) В следующей таблице приведены данные о длине тормозного пути $d$ некоторого автомобиля в зависимости от его скорости $v$ в начале пути:\n",
        "\n",
        "$$\n",
        "\\begin{array}{|c|c|c|c|c|c|c|}\n",
        "\\hline\n",
        "v & 0  & 10 & 20 &30 &40 &50 &60 \\\\\n",
        "\\hline                  \n",
        "d & 0  & 5 & 20 &46 &70 &102 &153\\\\\n",
        "\\hline\n",
        "\\end{array}\n",
        "$$\n",
        "\n",
        "Какова должна быть максимальная скорость автомобиля, чтобы длина тормозного пути не превосходила бы $60$? Написать программу (скрипт), решающую задачу следующими способами:\n",
        "\n",
        "кусочной линейной интерполяцией,\n",
        "\n",
        "кусочной кубической интерполяцией,\n",
        "\n",
        "обратной кубической интерполяцией. Придумать и реализовать новый способ. Нарисовать графики построенных интерполянтов. Сравнить результаты."
      ]
    },
    {
      "cell_type": "markdown",
      "metadata": {
        "id": "Zp0hOBu4IAew"
      },
      "source": [
        "**Решение**\n",
        "\n",
        "Подключим необходимые библиотеки"
      ]
    },
    {
      "cell_type": "code",
      "metadata": {
        "id": "WT2QdsXOxvJh"
      },
      "source": [
        "import numpy as np\n",
        "import matplotlib.pyplot as plt\n",
        "%matplotlib inline\n",
        "from scipy import linalg\n",
        "from scipy import interpolate"
      ],
      "execution_count": 35,
      "outputs": []
    },
    {
      "cell_type": "markdown",
      "metadata": {
        "id": "YpfFRPfGIK6M"
      },
      "source": [
        "Введём исходные данные и отобразим их на графике для большей наглядности.\n",
        "Стоит отметить, что в исходных данных наблюдается увеличение длины пути при увеличении скорости в начале пути. Следовательно функция монотонна.Наибольшая скорость при тормозном пути, не превосходящем 60, будет в точке d=60. "
      ]
    },
    {
      "cell_type": "code",
      "metadata": {
        "id": "i7yGNaAiONAu",
        "colab": {
          "base_uri": "https://localhost:8080/",
          "height": 295
        },
        "outputId": "f1886580-fd99-4132-e9a3-5cc4507308d2"
      },
      "source": [
        "d=np.array([0,5,20,46,70,102,153])\n",
        "v=np.array([0,10,20,30,40,50,60])\n",
        "plt.title(\"Начальные данные\")\n",
        "plt.grid(True)\n",
        "plt.plot(d,v,'o',color='tab:green')\n",
        "plt.xlabel(\"длина тормозного пути(d)\")\n",
        "plt.ylabel(\"скорость в начале пути(v)\")\n",
        "pass"
      ],
      "execution_count": 36,
      "outputs": [
        {
          "output_type": "display_data",
          "data": {
            "image/png": "[encoded data removed]",
            "text/plain": [
              "<Figure size 432x288 with 1 Axes>"
            ]
          },
          "metadata": {
            "tags": [],
            "needs_background": "light"
          }
        }
      ]
    },
    {
      "cell_type": "markdown",
      "metadata": {
        "id": "8InHYIrbK2Y3"
      },
      "source": [
        "**Кусочно-линейная интерполяция**\n",
        "\n",
        "Первым способом интерполирования, который мы рассмотрим, будет кусочно-линейная интерполяция. Это вид кусочно-полиномиальной функции, при котором на каждом отрезке $[x_j x_{j+1}]$ интерполянт представляет собой линейную функцию $L_j(x)$, при этом $L_j(x_j)=y_j$ и $L_j(x_{j+1})=y_{j+1}$\n"
      ]
    },
    {
      "cell_type": "markdown",
      "metadata": {
        "id": "dXcR6yx_d7p_"
      },
      "source": [
        "Выразим кусочно-кубическую интерполяцию нашей функции в качестве интерполяционного многочлена Лагранжа первой степени, где $d$ - аргумент функции, $v$  - значение функции\n",
        "\n",
        "$v(d)=v_{i}\\frac{(d-d_{i+1})}{(d_{i}-d_{i+1})}+v_{i+1}*\\frac{(d-d_{i})}{(d_{i+1}-d_{i})}$\n",
        "\n",
        "В качестве $d_{i}$ и $v_{i}$ возьмем координаты левой границы отрезка, к которому принадлежит $d=60$, в качестве $d_{i+1}$ и $v_{i+1}$ - правой границы.\n"
      ]
    },
    {
      "cell_type": "code",
      "metadata": {
        "id": "TNfSv-zMVUzx",
        "colab": {
          "base_uri": "https://localhost:8080/"
        },
        "outputId": "58ddfe38-1600-4c9d-f792-73ea30501f82"
      },
      "source": [
        "d0=60 #заданная координата по d\n",
        "i=6\n",
        "while d[i]>d0:\n",
        "  i=i-1\n",
        "d1=d[i] #левая граница по d\n",
        "v1=v[i] #левая граница по v\n",
        "i=0\n",
        "while d[i]<d0:\n",
        "  i=i+1\n",
        "d2=d[i]#правая граница по d\n",
        "v2=v[i]#правая граница по v\n",
        "\n",
        "v0=v1*(d0-d2)/(d1-d2)+v2*(d0-d1)/((d2-d1))\n",
        "v0"
      ],
      "execution_count": 37,
      "outputs": [
        {
          "output_type": "execute_result",
          "data": {
            "text/plain": [
              "35.83333333333333"
            ]
          },
          "metadata": {
            "tags": []
          },
          "execution_count": 37
        }
      ]
    },
    {
      "cell_type": "markdown",
      "metadata": {
        "id": "DjlxsxskWgsy"
      },
      "source": [
        "Аналогичный результат мы можем получить с помощью функции np.interp()"
      ]
    },
    {
      "cell_type": "code",
      "metadata": {
        "colab": {
          "base_uri": "https://localhost:8080/"
        },
        "id": "ufZAIWTq_M6_",
        "outputId": "3eb19ba8-96a2-496c-937b-3fea9fb397f1"
      },
      "source": [
        "np.interp(60,d,v)"
      ],
      "execution_count": 38,
      "outputs": [
        {
          "output_type": "execute_result",
          "data": {
            "text/plain": [
              "35.833333333333336"
            ]
          },
          "metadata": {
            "tags": []
          },
          "execution_count": 38
        }
      ]
    },
    {
      "cell_type": "markdown",
      "metadata": {
        "id": "wzRHNa6XT0CW"
      },
      "source": [
        "**Кусочно-кубическая интерполяция**"
      ]
    },
    {
      "cell_type": "markdown",
      "metadata": {
        "id": "N6J4P00T07NV"
      },
      "source": [
        "Второй способ интерполирования, который мы рассмотрим, - кусочно-кубическая интерполяция, где на каждом отрезке $[x_j x_{j+1}]$ интерполянт представляет собой кубическую функцию $S_j(x)$, при этом $S_j(x_j)=y_j$ и $S_j(x_{j+1})=y_{j+1}$; кроме того интерполянт имеет непрерывную первую и вторую производные во всех неконцевых узловых точках и нулевые вторые производные в концевых точках $x_0$ и $x_{n-1}$ (естественный сплайн)"
      ]
    },
    {
      "cell_type": "code",
      "metadata": {
        "colab": {
          "base_uri": "https://localhost:8080/"
        },
        "id": "2IR33s5hX0bB",
        "outputId": "365965af-8ae2-41ed-baaf-ba1c794b3cfd"
      },
      "source": [
        "\n",
        "spline3 = interpolate.interp1d(d, v, kind = 'cubic')\n",
        "spline3(60)"
      ],
      "execution_count": 63,
      "outputs": [
        {
          "output_type": "execute_result",
          "data": {
            "text/plain": [
              "array(36.00342639)"
            ]
          },
          "metadata": {
            "tags": []
          },
          "execution_count": 63
        }
      ]
    },
    {
      "cell_type": "markdown",
      "metadata": {
        "id": "ZKCQZabpfNDt"
      },
      "source": [
        "**Обратная кубическая интерполяция**\n",
        "\n"
      ]
    },
    {
      "cell_type": "markdown",
      "metadata": {
        "id": "v-DtJjStnqUa"
      },
      "source": [
        "Интерполяционного многочлен Лагранжа третьей степени выглядит следующим образом:\n",
        "\n",
        "$v(d)=v_{n-3}\\frac{(d-d_{n-2})(d-d_{n-1})(d-d_{n})}{(d_{n-3}-d_{n-2})(d_{n-3}-d_{n-1})(d_{n-3}-d_{n})}+v_{n-2}*\\frac{(d-d_{n-3})(d-d_{n-1})(d-d_{n})}{(d_{n-2}-d_{n-3})(d_{n-2}-d_{n-1})(d_{n-2}-d_{n})}+v_{n-1}*\\frac{(d-d_{n-3})(d-d_{n-2})(d-d_{n})}{(d_{n-1}-d_{n-3})(d_{n-1}-d_{n-2})(d_{n-1}-d_{n})}+v_{n}*\\frac{(d-d_{n-3})(d-d_{n-2})(d-d_{n-1})}{(d_{n}-d_{n-3})(d_{n}-d_{n-2})(d_{n}-d_{n-1})}$\n",
        "\n"
      ]
    },
    {
      "cell_type": "markdown",
      "metadata": {
        "id": "2qrN7UBRxHCX"
      },
      "source": [
        "Рассмотрим 4 точки $d_{n-3},d_{n-2},d_{n-1},d_{n} $ как значения функции от аргументов $f_{n-3},f_{n-2},f_{n-1},f_{n}$ соответственно. Интерполяционный многочлен Лагранжа для этих точек будет выглядеть следующим образом:\n",
        "\n",
        "$f(v)^{-1}=d_{n-3}\\frac{(v-v_{n-2})(v-v_{n-1})(v-v_{n})}{(v_{n-3}-v_{n-2})(v_{n-3}-v_{n-1})(v_{n-3}-v_{n})}+d_{n-2}*\\frac{(v-v_{n-3})(v-v_{n-1})(v-v_{n})}{(v_{n-2}-v_{n-3})(v_{n-2}-v_{n-1})(v_{n-2}-v_{n})}+d_{n-1}*\\frac{(v-v_{n-3})(v-v_{n-2})(v-v_{n})}{(v_{2}-v_{n-3})(v_{n-1}-v_{n-2})(v_{n-1}-v_{n})}+d_{n}*\\frac{(v-v_{n-3})(v-v_{n-2})(v-v_{n-1})}{(v_{n}-v_{n-3})(v_{n}-v_{n-2})(v_{n}-v_{n-1})}$"
      ]
    },
    {
      "cell_type": "markdown",
      "metadata": {
        "id": "0oxIXQ9IY2CE"
      },
      "source": [
        "Для того, чтобы найти  $v$ при $d=60$ с помощью формулы обратной кубической интерполяции,будем перебирать $v$ с точностью до десятых, пока не получим наиболее близкое значение к 60. Учитывая, что функция монотонно возрастает, и то, что $46<60<70$, для перебора значений будем рассматривать промежуток при $v_{2}=30$ и $v_{3}=40$"
      ]
    },
    {
      "cell_type": "code",
      "metadata": {
        "colab": {
          "base_uri": "https://localhost:8080/"
        },
        "id": "_U7Cn0cfc_AF",
        "outputId": "b9fd532f-2849-4255-efde-db02572d4fe2"
      },
      "source": [
        "d=np.array([0,5, 20,46,70,102,153])\n",
        "v=np.array([0,10,20,30,40,50,60])\n",
        "\n",
        "v1=v[2]\n",
        "v2=v[3]\n",
        "v3=v[4]\n",
        "v4=v[5]\n",
        "v0=v2\n",
        "\n",
        "d1=d[2]\n",
        "d2=d[3]\n",
        "d3=d[4]\n",
        "d4=d[5]\n",
        "\n",
        "res=100 # переменная для хранения искомого значения v\n",
        "delta=60 # наименьшая разница между 60 и полученным d0\n",
        "while (v0<v3):\n",
        "  d0=d1*(v0-v2)*(v0-v3)*(v0-v4)/((v1-v2)*(v1-v3)*(v1-v4))\n",
        "  d0+=d2*(v0-v1)*(v0-v3)*(v0-v4)/((v2-v1)*(v2-v3)*(v2-v4))\n",
        "  d0+=d3*(v0-v1)*(v0-v2)*(v0-v4)/((v3-v1)*(v3-v2)*(v3-v4))\n",
        "  d0+=d4*(v0-v1)*(v0-v2)*(v0-v3)/((v4-v1)*(v4-v2)*(v4-v3))\n",
        "  if (delta>abs(60-d0)):\n",
        "    res=v0\n",
        "    delta=60-d0\n",
        "  v0+=0.1\n",
        "print(res)"
      ],
      "execution_count": 50,
      "outputs": [
        {
          "output_type": "stream",
          "text": [
            "36.000000000000085\n"
          ],
          "name": "stdout"
        }
      ]
    },
    {
      "cell_type": "markdown",
      "metadata": {
        "id": "nbGSmHV5tiAD"
      },
      "source": [
        "**Построение графиков интерполяции**"
      ]
    },
    {
      "cell_type": "markdown",
      "metadata": {
        "id": "cBgDvOczNquG"
      },
      "source": [
        "Учитывая, что обратная кубическая интерполяция не является встроенной функцией, вычислим несколько её значений и сделаем их основой для построения графика."
      ]
    },
    {
      "cell_type": "code",
      "metadata": {
        "id": "vSgUZHokGWFj"
      },
      "source": [
        "d=np.array([0,5, 20,46,70,102,153])\n",
        "v=np.array([0,10,20,30,40,50,60])\n",
        "newd=np.array([ ] ,dtype=np.float)#массив для хранения полученных значений d0\n",
        "newv=np.array([ ] ,dtype=np.float)#массив для хранения y0\n",
        "\n",
        "#Вычислим значения d0, для точек, у которых 0<=v<30\n",
        "v1=v[0]\n",
        "v2=v[1]\n",
        "v3=v[2]\n",
        "v4=v[3]\n",
        "v0=v1\n",
        "\n",
        "d1=d[0]\n",
        "d2=d[1]\n",
        "d3=d[2]\n",
        "d4=d[3]\n",
        "\n",
        "while (v0<v4):\n",
        "  d0=d1*(v0-v2)*(v0-v3)*(v0-v4)/((v1-v2)*(v1-v3)*(v1-v4))\n",
        "  d0+=d2*(v0-v1)*(v0-v3)*(v0-v4)/((v2-v1)*(v2-v3)*(v2-v4))\n",
        "  d0+=d3*(v0-v1)*(v0-v2)*(v0-v4)/((v3-v1)*(v3-v2)*(v3-v4))\n",
        "  d0+=d4*(v0-v1)*(v0-v2)*(v0-v3)/((v4-v1)*(v4-v2)*(v4-v3))\n",
        "  newd=np.append(newd,d0)\n",
        "  newv=np.append(newv,v0)\n",
        "  v0+=1\n",
        "#Вычислим значения d0, для точек, у которых 30<=v<155\n",
        "v1=v[3]\n",
        "v2=v[4]\n",
        "v3=v[5]\n",
        "v4=v[6]\n",
        "v0=v1\n",
        "\n",
        "d1=d[3]\n",
        "d2=d[4]\n",
        "d3=d[5]\n",
        "d4=d[6]\n",
        "\n",
        "while (v0<v4+2):\n",
        "  d0=d1*(v0-v2)*(v0-v3)*(v0-v4)/((v1-v2)*(v1-v3)*(v1-v4))\n",
        "  d0+=d2*(v0-v1)*(v0-v3)*(v0-v4)/((v2-v1)*(v2-v3)*(v2-v4))\n",
        "  d0+=d3*(v0-v1)*(v0-v2)*(v0-v4)/((v3-v1)*(v3-v2)*(v3-v4))\n",
        "  d0+=d4*(v0-v1)*(v0-v2)*(v0-v3)/((v4-v1)*(v4-v2)*(v4-v3))\n",
        "  newd=np.append(newd,d0)\n",
        "  newv=np.append(newv,v0)\n",
        "  v0+=1"
      ],
      "execution_count": 52,
      "outputs": []
    },
    {
      "cell_type": "markdown",
      "metadata": {
        "id": "TwvkORSdUKoI"
      },
      "source": [
        "Нарисуем график построенных интерполянтов"
      ]
    },
    {
      "cell_type": "code",
      "metadata": {
        "colab": {
          "base_uri": "https://localhost:8080/",
          "height": 404
        },
        "id": "F6g-oBjS80GM",
        "outputId": "63f5a3f6-1fab-42ca-fc1c-20c597e0522d"
      },
      "source": [
        "cusochline = interpolate.interp1d(d, v,kind='linear')\n",
        "spline3 = interpolate.interp1d(d, v, kind = 'cubic')\n",
        "\n",
        "plt.figure(figsize = (13, 6))\n",
        "\n",
        "plt.subplot(1, 2, 1)\n",
        "plt.title(\"Интерполяция тормозного пути\")\n",
        "xx = np.linspace(np.min(d), np.max(d), 100)\n",
        "plt.grid(True)\n",
        "plt.xlabel(\"длина тормозного пути(d)\")\n",
        "plt.ylabel(\"скорость в начале пути(v)\")\n",
        "plt.plot(xx, spline3(xx), color = 'tab:blue', label = '3rd order spline')\n",
        "plt.plot(newd,newv,color='tab:purple',  label = 'inverse 3rd order interpolation')\n",
        "plt.plot(xx, cusochline(xx),   color = 'tab:green',  label = 'linear')\n",
        "plt.plot(d, v, 'o',       color = 'tab:orange',   label = 'points')\n",
        "plt.plot(dd, np.interp(60,d,v), 'o',       color = 'tab:green')\n",
        "plt.plot(60, vv0, 'o',       color = 'tab:blue')\n",
        "plt.legend(loc = 2)\n",
        "\n",
        "plt.subplot(1, 2, 2)\n",
        "xx = np.linspace(d[3], d[4], 300)\n",
        "plt.grid(True)\n",
        "plt.xlabel(\"длина тормозного пути(d)\")\n",
        "plt.ylabel(\"скорость в начале пути(v)\")\n",
        "plt.plot(xx, cusochline(xx),   color = 'tab:green',  label = 'linear')\n",
        "plt.plot(xx, spline3(xx), color = 'tab:blue', label = '3rd order spline')\n",
        "plt.plot(newd[30:40],newv[30:40],color='tab:purple',  label = 'inverse 3rd order interpolation')\n",
        "plt.plot(d[3:5], v[3:5], 'o',       color = 'tab:orange',   label = 'points')\n",
        "plt.plot(60, np.interp(60,d,v), 'o',       color = 'tab:green',ms='3')\n",
        "plt.plot(60, spline3(60), 'o',       color = 'tab:blue',ms='3')\n",
        "plt.plot(60, res, 'o',       color = 'tab:purple',ms='3')\n",
        "\n",
        "plt.legend(loc = 2)\n",
        "\n",
        "pass"
      ],
      "execution_count": 65,
      "outputs": [
        {
          "output_type": "display_data",
          "data": {
            "image/png": "[encoded data removed]",
            "text/plain": [
              "<Figure size 936x432 with 2 Axes>"
            ]
          },
          "metadata": {
            "tags": [],
            "needs_background": "light"
          }
        }
      ]
    },
    {
      "cell_type": "markdown",
      "metadata": {
        "id": "VJ7uFqAHtyp-"
      },
      "source": [
        "**Вывод**"
      ]
    },
    {
      "cell_type": "markdown",
      "metadata": {
        "id": "K8r5Dhk1tqp0"
      },
      "source": [
        "Мы проинтерполировали исходный набор данных 3 способами, чтобы выяснить наибольшую начальную скорость при тормозном пути равном 60.\n",
        "1.   При интерполировании различными способами, результаты получились различными, но схожими между собой. Они близки к значению $v=36$.  Линейная интерполяция отличается от кубических на 0.2 , разница между кусочно-кубической интерполяцией и обратной кубической интерполяцией около 0.0034.  \n",
        "2.   Наибольшую эффективность в этой задаче показала кусочно-кубическая интерполяция, благодаря плавности графика, близости к реальным значениям начальных данных и удобству использования.\n"
      ]
    }
  ]
}
